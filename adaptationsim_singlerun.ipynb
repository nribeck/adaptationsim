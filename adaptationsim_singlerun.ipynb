{
 "cells": [
  {
   "cell_type": "code",
   "execution_count": 15,
   "metadata": {
    "collapsed": true
   },
   "outputs": [],
   "source": [
    "import sys\n",
    "import time\n",
    "import numpy as np, scipy.special, random, bisect, time\n",
    "import cProfile, pstats, StringIO\n",
    "from itertools import izip\n",
    "from __future__ import print_function\n",
    "from matplotlib import pyplot\n",
    "from IPython.display import clear_output\n",
    "import csv\n",
    "import os\n",
    "import os.path\n",
    "\n",
    "_exp = np.random.exponential\n",
    "_bin = np.random.binomial\n",
    "_poisson = np.random.poisson\n",
    "_gamma = scipy.special.gammainc\n",
    "_polyfit = np.polyfit\n",
    "_poly1d = np.poly1d\n",
    "_std=np.std\n",
    "\n",
    "%matplotlib inline"
   ]
  },
  {
   "cell_type": "code",
   "execution_count": 16,
   "metadata": {
    "collapsed": true
   },
   "outputs": [],
   "source": [
    "def tidyup_genotypes(genotype_frequencies, genotype_fitnesses, genotype_mutations):\n",
    "    #zipping the lists together is part of the python \"list comprehension\" process, which builds a new list from\n",
    "    #elements of the zipped lists based on the criteria after \"if\".  This proved to be the fastest way to remove \n",
    "    #extinct genotypes from our tracking list.\n",
    "    \n",
    "    tidy_fitness_list = [x for x,y in izip(genotype_fitnesses, genotype_frequencies) if y > 0]\n",
    "    tidy_mutation_list = [x for x,y in izip(genotype_mutations, genotype_frequencies) if y > 0]\n",
    "    tidy_freq_list = [x for x in genotype_frequencies if x != 0]\n",
    "    \n",
    "    return tidy_freq_list, tidy_fitness_list, tidy_mutation_list"
   ]
  },
  {
   "cell_type": "code",
   "execution_count": 17,
   "metadata": {
    "collapsed": true
   },
   "outputs": [],
   "source": [
    "def reproduction(genotype_frequencies, genotype_fitnesses, dot_product):\n",
    "\n",
    "    running_dot_prod = 0\n",
    "    running_pop_size = 0\n",
    "    \n",
    "    if is_binary == True:\n",
    "        norm = pop_size/(2*dot_product) #binary fission\n",
    "    else:\n",
    "        norm = 1/dot_product  #<-- part of poisson reproduction\n",
    "    for i in xrange(len(genotype_frequencies)):\n",
    "        if is_binary == True:\n",
    "            num_new_individuals = _bin(2*genotype_frequencies[i], genotype_fitnesses[i]*norm) #binary fission\n",
    "        else:      \n",
    "            num_new_individuals = _bin(pop_size, genotype_frequencies[i]*genotype_fitnesses[i]*norm) #<-- poisson reproduction\n",
    "        genotype_frequencies[i] = num_new_individuals\n",
    "        running_pop_size += num_new_individuals #sums the new population size\n",
    "        running_dot_prod += num_new_individuals*genotype_fitnesses[i] #iteratively calculates the dot product of the \n",
    "        #frequency list and and the fitness list for use in later calculations.  Doing this process in this loop saved some time\n",
    "        #as we had to loop through the entire genotype list here anyway to update it each generation\n",
    "    \n",
    "    return genotype_frequencies, running_pop_size, running_dot_prod"
   ]
  },
  {
   "cell_type": "code",
   "execution_count": 18,
   "metadata": {
    "collapsed": true
   },
   "outputs": [],
   "source": [
    "def mutation(genotype_frequencies, genotype_fitnesses, genotype_mutations, new_pop_size ,mean_fitness):\n",
    "    \n",
    "    total_mutants = _bin(new_pop_size, (1 - np.exp(-mut_rate)))  #Calculates the total number of mutants this generation\n",
    "    \n",
    "    multiplicity=[] #an array whose indices correspond to number of mutations minus one, and whose entries are the number of \n",
    "    #mutated individuals with that number of mutations this generation\n",
    "    r = total_mutants\n",
    "    k=2\n",
    "    while r > 0:\n",
    "        #r is the number of individuals with at least k-1 mutations\n",
    "        #rate inside binomial is the prob of an individual having at least k mutations given that it has at least k-1 mutations\n",
    "        new_r = _bin(r, _gamma(k, mut_rate)/_gamma(k-1, mut_rate))\n",
    "        multiplicity.append(r - new_r)\n",
    "        r = new_r\n",
    "        k+=1\n",
    "   \n",
    "    cum_sum=0\n",
    "    thresholds=[] #This list is used in conjunction with the mutated_individuals list to pick the genotypes which will mutate.\n",
    "    #It sums the amount of individuals in each genotype, effectively finding which ID numbers are in which genotype\n",
    "    for i in xrange(len(genotype_frequencies)):\n",
    "        if total_mutants > 0:\n",
    "            cum_sum += genotype_frequencies[i]\n",
    "            thresholds.append(cum_sum)   \n",
    "    \n",
    "    mutated_individuals = random.sample(xrange(1,new_pop_size+1), total_mutants) #Think of every individual in the population having\n",
    "    #a unique ID number.  This function creates a list of randomly selected ID numbers, the ID of each individual that will mutate\n",
    "    #this generation.  While seemingly unorthodox, this was the fastest way to randomly pick individuals (without replacement) \n",
    "    #to mutate.  This whole process is basically a weighted random sampling of the genotype_frequencies list.\n",
    "    \n",
    "    multiplicity_counter=1 #how many mutations this particular genotype acquired this gen\n",
    "    this_mult_mutated=0 #how many indivduals have been mutated at this multiplicity count, for example if we have already dealt\n",
    "    #with 4 double mutants, this_mult_mutated will equal 4\n",
    "    added_fitness = 0 #for use in calculating new mean fitness\n",
    "    for j in xrange(total_mutants):\n",
    "        while this_mult_mutated == multiplicity[multiplicity_counter-1]:\n",
    "            multiplicity_counter+=1\n",
    "            this_mult_mutated=0\n",
    "            #This loop checks if the required number of individuals at this multiplicity count have been dealt with, and increments\n",
    "            #the multiplicity counter to the next multiplicity level with a nonzero number of mutants if the required number of\n",
    "            #mutants has been met for the current multiplicity level.  \n",
    "        this_geno = bisect.bisect_left(thresholds,mutated_individuals[j]) #picks the genotype of a random individual from the \n",
    "        #entire population.  \n",
    "        genotype_frequencies[this_geno] -=1 #subtracts the individual that mutated from its original genotype, as it now has \n",
    "        #a new genotype\n",
    "        genotype_mutations.append(multiplicity_counter + genotype_mutations[this_geno]) #records how many mutations the new\n",
    "        #genotype has, which is equal to the amount its previous genotype had plus the amount of mutations it accrued this generation\n",
    "        mutant_fitness = genotype_fitnesses[this_geno] #the fitness of the new mutant BEFORE the mutation benefit is applied\n",
    "        \n",
    "        for k in xrange(1, multiplicity_counter+1):\n",
    "            s = _exp(1.0/(alpha*(mutant_fitness**g))) #the percent magnitude of the fitness gain from the mutation\n",
    "            added_fitness += mutant_fitness*s #records the magnitude of the fitness\n",
    "            mutant_fitness *= (1 + s) #applies the beneficial effect to the mutant\n",
    "            #This loop applies the mutations and loops through the multiplicity number, so a double mutant will have two \n",
    "            #mutations applied, for example\n",
    "            \n",
    "        genotype_fitnesses.append(mutant_fitness) #sets the updated fitness of the new mutant\n",
    "        \n",
    "        this_mult_mutated+=1\n",
    "    genotype_frequencies.extend((1,)*total_mutants) #Adds the new genotypes to the genotype list.  All the new mutants have\n",
    "    #a frequency of 1, thus this just adds entries of 1 to the end of the list\n",
    "    \n",
    "    return genotype_frequencies, genotype_fitnesses, genotype_mutations, added_fitness"
   ]
  },
  {
   "cell_type": "code",
   "execution_count": 22,
   "metadata": {
    "collapsed": false
   },
   "outputs": [],
   "source": [
    "#Variable Initialization\n",
    "pop_size = 1E7\n",
    "mut_rate = 1E-6\n",
    "alpha = 100\n",
    "g=0 #epistasis parameter\n",
    "num_gens = 100\n",
    "is_binary = True #Which model of reproduction is being used\n",
    "\n",
    "mean_fitness=1\n",
    "w = [1.0]      #genotype_fitnesses\n",
    "p = [pop_size] #genotype_frequencies\n",
    "m = [0]        #genotype_mutations\n",
    "fitnesses = [1.0]\n",
    "fixations = [0]\n",
    "pop_sizes = [pop_size] #A list of the population sizes after each generation\n",
    "dot_product = pop_size #The dot product of the frequency and fitness lists, the \"total fitness\" used in calculating the mean\n",
    "new_pop_size = pop_size\n",
    "\n",
    "for i in xrange(num_gens):\n",
    "        \n",
    "    p, new_pop_size, dot_product = reproduction(p, w, dot_product) #REPRODUCTION\n",
    "    p, w, m, added_fitness = mutation(p, w, m, new_pop_size, mean_fitness)       #MUTATION\n",
    "    p, w, m = tidyup_genotypes(p, w, m)                            #CLEANUP\n",
    "    \n",
    "    dot_product += added_fitness #since the dot product was initially calculated in the Reproduction function, this adds in\n",
    "    #the part of the dot product from the extra fitness of the new new mutants.  This is just the additional fitness from the\n",
    "    #mutations, not the total fitness of the mutants, which avoids double counting them in both Reproduction and Mutation\n",
    "    mean_fitness = dot_product/new_pop_size\n",
    "    \n",
    "    fitnesses.append(mean_fitness)\n",
    "    fixations.append(min(m)) \n",
    "    pop_sizes.append(new_pop_size)\n",
    "    "
   ]
  },
  {
   "cell_type": "code",
   "execution_count": null,
   "metadata": {
    "collapsed": true
   },
   "outputs": [],
   "source": []
  }
 ],
 "metadata": {
  "kernelspec": {
   "display_name": "Python 2",
   "language": "python",
   "name": "python2"
  },
  "language_info": {
   "codemirror_mode": {
    "name": "ipython",
    "version": 2
   },
   "file_extension": ".py",
   "mimetype": "text/x-python",
   "name": "python",
   "nbconvert_exporter": "python",
   "pygments_lexer": "ipython2",
   "version": "2.7.11"
  }
 },
 "nbformat": 4,
 "nbformat_minor": 0
}
